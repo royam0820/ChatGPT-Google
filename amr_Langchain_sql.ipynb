{
  "nbformat": 4,
  "nbformat_minor": 0,
  "metadata": {
    "colab": {
      "provenance": [],
      "authorship_tag": "ABX9TyM323I+uT75mlyoTgvcrkO+",
      "include_colab_link": true
    },
    "kernelspec": {
      "name": "python3",
      "display_name": "Python 3"
    },
    "language_info": {
      "name": "python"
    }
  },
  "cells": [
    {
      "cell_type": "markdown",
      "metadata": {
        "id": "view-in-github",
        "colab_type": "text"
      },
      "source": [
        "<a href=\"https://colab.research.google.com/github/royam0820/ChatGPT-Google/blob/main/amr_Langchain_sql.ipynb\" target=\"_parent\"><img src=\"https://colab.research.google.com/assets/colab-badge.svg\" alt=\"Open In Colab\"/></a>"
      ]
    },
    {
      "cell_type": "markdown",
      "source": [
        "# Using the LLM to write and run SQL"
      ],
      "metadata": {
        "id": "pKhyErgIc5Sx"
      }
    },
    {
      "cell_type": "code",
      "execution_count": 1,
      "metadata": {
        "colab": {
          "base_uri": "https://localhost:8080/"
        },
        "id": "ml6MMJFSOZOW",
        "outputId": "dd60c04f-612d-44fe-cd2c-b8240fa9186b"
      },
      "outputs": [
        {
          "output_type": "stream",
          "name": "stdout",
          "text": [
            "Mounted at /content/drive\n"
          ]
        }
      ],
      "source": [
        "# connecting to a google drive\n",
        "from google.colab import drive\n",
        "drive.mount('/content/drive')"
      ]
    },
    {
      "cell_type": "code",
      "source": [
        "# the database we are going to use.\n",
        "!ls"
      ],
      "metadata": {
        "colab": {
          "base_uri": "https://localhost:8080/"
        },
        "id": "2IcbzxotgNgh",
        "outputId": "f8027a27-1bcf-459e-8697-183685e136d2"
      },
      "execution_count": 2,
      "outputs": [
        {
          "output_type": "stream",
          "name": "stdout",
          "text": [
            "drive  sample_data\n"
          ]
        }
      ]
    },
    {
      "cell_type": "code",
      "source": [
        "%cd /content/drive/MyDrive/data/db"
      ],
      "metadata": {
        "colab": {
          "base_uri": "https://localhost:8080/"
        },
        "id": "Y3alK5g8gGv7",
        "outputId": "cae448e9-468a-4935-8e26-60451fb74dd1"
      },
      "execution_count": 3,
      "outputs": [
        {
          "output_type": "stream",
          "name": "stdout",
          "text": [
            "/content/drive/MyDrive/data/db\n"
          ]
        }
      ]
    },
    {
      "cell_type": "code",
      "execution_count": 4,
      "metadata": {
        "id": "ec6395b7"
      },
      "outputs": [],
      "source": [
        "# Getting the OpenAI api key\n",
        "import os\n",
        "os.environ['OPENAI_API_KEY'] = \"YOUR OWN OPENAI KEY\""
      ]
    },
    {
      "cell_type": "code",
      "source": [
        "!pip install langchain -q\n",
        "!pip install openai -q\n",
        "import langchain "
      ],
      "metadata": {
        "colab": {
          "base_uri": "https://localhost:8080/"
        },
        "id": "zNIM9TYu2_0V",
        "outputId": "2207b297-c62b-4f9d-d54a-db0f46c9a1ad"
      },
      "execution_count": 5,
      "outputs": [
        {
          "output_type": "stream",
          "name": "stdout",
          "text": [
            "\u001b[2K     \u001b[90m━━━━━━━━━━━━━━━━━━━━━━━━━━━━━━━━━━━━━━\u001b[0m \u001b[32m520.7/520.7 kB\u001b[0m \u001b[31m10.8 MB/s\u001b[0m eta \u001b[36m0:00:00\u001b[0m\n",
            "\u001b[2K     \u001b[90m━━━━━━━━━━━━━━━━━━━━━━━━━━━━━━━━━━━━━━━━\u001b[0m \u001b[32m1.6/1.6 MB\u001b[0m \u001b[31m55.4 MB/s\u001b[0m eta \u001b[36m0:00:00\u001b[0m\n",
            "\u001b[2K     \u001b[90m━━━━━━━━━━━━━━━━━━━━━━━━━━━━━━━━━━━━━━━━\u001b[0m \u001b[32m1.0/1.0 MB\u001b[0m \u001b[31m81.9 MB/s\u001b[0m eta \u001b[36m0:00:00\u001b[0m\n",
            "\u001b[2K     \u001b[90m━━━━━━━━━━━━━━━━━━━━━━━━━━━━━━━━━━━━━━━━\u001b[0m \u001b[32m90.0/90.0 kB\u001b[0m \u001b[31m15.0 MB/s\u001b[0m eta \u001b[36m0:00:00\u001b[0m\n",
            "\u001b[2K     \u001b[90m━━━━━━━━━━━━━━━━━━━━━━━━━━━━━━━━━━━━━━\u001b[0m \u001b[32m114.2/114.2 kB\u001b[0m \u001b[31m17.4 MB/s\u001b[0m eta \u001b[36m0:00:00\u001b[0m\n",
            "\u001b[2K     \u001b[90m━━━━━━━━━━━━━━━━━━━━━━━━━━━━━━━━━━━━━━\u001b[0m \u001b[32m158.8/158.8 kB\u001b[0m \u001b[31m21.1 MB/s\u001b[0m eta \u001b[36m0:00:00\u001b[0m\n",
            "\u001b[2K     \u001b[90m━━━━━━━━━━━━━━━━━━━━━━━━━━━━━━━━━━━━━━\u001b[0m \u001b[32m264.6/264.6 kB\u001b[0m \u001b[31m29.9 MB/s\u001b[0m eta \u001b[36m0:00:00\u001b[0m\n",
            "\u001b[2K     \u001b[90m━━━━━━━━━━━━━━━━━━━━━━━━━━━━━━━━━━━━━━━━\u001b[0m \u001b[32m49.1/49.1 kB\u001b[0m \u001b[31m7.7 MB/s\u001b[0m eta \u001b[36m0:00:00\u001b[0m\n",
            "\u001b[2K     \u001b[90m━━━━━━━━━━━━━━━━━━━━━━━━━━━━━━━━━━━━━━━━\u001b[0m \u001b[32m70.3/70.3 kB\u001b[0m \u001b[31m3.2 MB/s\u001b[0m eta \u001b[36m0:00:00\u001b[0m\n",
            "\u001b[?25h"
          ]
        }
      ]
    },
    {
      "cell_type": "code",
      "source": [
        "from langchain import OpenAI, SQLDatabase, SQLDatabaseChain\n"
      ],
      "metadata": {
        "id": "S0ZtJoXrTM0-"
      },
      "execution_count": 6,
      "outputs": []
    },
    {
      "cell_type": "code",
      "source": [
        "uri = \"sqlite:////content/drive/MyDrive/data/db/E__sm_app.sqlite\""
      ],
      "metadata": {
        "id": "CZkZjuKbTkC1"
      },
      "execution_count": 7,
      "outputs": []
    },
    {
      "cell_type": "code",
      "source": [
        "# calling SQLDatabaseChain to execute SQL queries\n",
        "db = SQLDatabase.from_uri(\"sqlite:////content/drive/MyDrive/chatbot_knowledge/db/E__sm_app.sqlite\")\n",
        "llm = OpenAI(temperature=0)\n",
        "db_chain = SQLDatabaseChain(\n",
        "    llm=llm,\n",
        "    database=db,\n",
        "    verbose=True,  # Show it works\n",
        "    return_direct=True,  # Return the results without sending back to the LLM\n",
        ")"
      ],
      "metadata": {
        "id": "KFAHpOy9V9pU"
      },
      "execution_count": 8,
      "outputs": []
    },
    {
      "cell_type": "markdown",
      "source": [
        "NB: For data-sensitive projects, you can specify `return_direct=True` in the `SQLDatabaseChain` initialization to directly return the output of the SQL query without any additional formatting. This prevents the LLM from seeing any contents within the database. Note, however, the LLM still has access to the database scheme (i.e. dialect, table and key names) by default."
      ],
      "metadata": {
        "id": "HBh2U27RuK4F"
      }
    },
    {
      "cell_type": "code",
      "source": [
        "# doing a simple connect to the database \n",
        "import sqlite3\n",
        "db = sqlite3.connect('/content/drive/MyDrive/chatbot_knowledge/db/E__sm_app.sqlite')\n"
      ],
      "metadata": {
        "id": "-ouy4OWmgnME"
      },
      "execution_count": 9,
      "outputs": []
    },
    {
      "cell_type": "code",
      "source": [
        "# and then simply querying the database\n",
        "cursor = db.cursor()\n",
        "cursor.execute(\"SELECT * FROM users\")\n",
        "rows = cursor.fetchall(); rows"
      ],
      "metadata": {
        "colab": {
          "base_uri": "https://localhost:8080/"
        },
        "id": "OZ-WbB63g_JL",
        "outputId": "a6d5ab84-31eb-40c6-eff1-c4c098b01f8c"
      },
      "execution_count": 10,
      "outputs": [
        {
          "output_type": "execute_result",
          "data": {
            "text/plain": [
              "[(1, 'James', 25, 'male', 'USA'),\n",
              " (2, 'Leila', 32, 'female', 'France'),\n",
              " (3, 'Brigitte', 35, 'female', 'England'),\n",
              " (4, 'Mike', 40, 'male', 'Denmark'),\n",
              " (5, 'Elizabeth', 21, 'female', 'Canada')]"
            ]
          },
          "metadata": {},
          "execution_count": 10
        }
      ]
    },
    {
      "cell_type": "code",
      "source": [
        "# and then simply querying the database\n",
        "cursor = db.cursor()\n",
        "cursor.execute(\"SELECT COUNT(*) FROM users\")\n",
        "rows = cursor.fetchall(); rows"
      ],
      "metadata": {
        "colab": {
          "base_uri": "https://localhost:8080/"
        },
        "outputId": "51227892-abf4-4658-ea8a-e457d65f8c57",
        "id": "x8BPmoZjYqs4"
      },
      "execution_count": 11,
      "outputs": [
        {
          "output_type": "execute_result",
          "data": {
            "text/plain": [
              "[(5,)]"
            ]
          },
          "metadata": {},
          "execution_count": 11
        }
      ]
    },
    {
      "cell_type": "code",
      "source": [
        "# executing a langchain db SQL instruction\n",
        "db_chain.run(\"How many employees are there?\")"
      ],
      "metadata": {
        "colab": {
          "base_uri": "https://localhost:8080/",
          "height": 157
        },
        "outputId": "ea003eee-d797-4f55-a53f-5c8ccd0b3908",
        "id": "2Za8U-Jrlr-I"
      },
      "execution_count": 12,
      "outputs": [
        {
          "output_type": "stream",
          "name": "stdout",
          "text": [
            "\n",
            "\n",
            "\u001b[1m> Entering new SQLDatabaseChain chain...\u001b[0m\n",
            "How many employees are there? \n",
            "SQLQuery:\u001b[32;1m\u001b[1;3m SELECT COUNT(*) FROM users;\u001b[0m\n",
            "SQLResult: \u001b[33;1m\u001b[1;3m[(5,)]\u001b[0m\n",
            "\u001b[1m> Finished chain.\u001b[0m\n"
          ]
        },
        {
          "output_type": "execute_result",
          "data": {
            "text/plain": [
              "'[(5,)]'"
            ],
            "application/vnd.google.colaboratory.intrinsic+json": {
              "type": "string"
            }
          },
          "metadata": {},
          "execution_count": 12
        }
      ]
    },
    {
      "cell_type": "markdown",
      "source": [
        "NB1: you can also simply call `db_chain(\"How many employees are there?\"`"
      ],
      "metadata": {
        "id": "0ipxk47gXRVv"
      }
    },
    {
      "cell_type": "markdown",
      "source": [
        "NB2: With the `db_chain` initialization with `verbose=True` we have a complete SQL information corresponding to the llm query."
      ],
      "metadata": {
        "id": "p_dd5ls_u6va"
      }
    },
    {
      "cell_type": "code",
      "source": [
        "# sqlite3 query\n",
        "cursor.execute(\"SELECT COUNT(*) FROM users\")\n",
        "rows = cursor.fetchall()\n",
        "print(\"number of users: \", rows)"
      ],
      "metadata": {
        "colab": {
          "base_uri": "https://localhost:8080/"
        },
        "id": "xC7Tl4z23nRw",
        "outputId": "fd54315f-93f0-4fb3-c77d-bd9867e7b9d2"
      },
      "execution_count": 13,
      "outputs": [
        {
          "output_type": "stream",
          "name": "stdout",
          "text": [
            "number of users:  [(5,)]\n"
          ]
        }
      ]
    },
    {
      "cell_type": "markdown",
      "source": [
        "NB: the table `users` has 25 records."
      ],
      "metadata": {
        "id": "qQAYPkkovQuE"
      }
    },
    {
      "cell_type": "code",
      "source": [
        "# db_chain llm query\n",
        "db_chain.run(\"give me their names?\")"
      ],
      "metadata": {
        "colab": {
          "base_uri": "https://localhost:8080/",
          "height": 157
        },
        "id": "5T_TQBxOj-KD",
        "outputId": "bcbf1979-ef8d-45cf-d0ac-9e6aa369aa25"
      },
      "execution_count": 14,
      "outputs": [
        {
          "output_type": "stream",
          "name": "stdout",
          "text": [
            "\n",
            "\n",
            "\u001b[1m> Entering new SQLDatabaseChain chain...\u001b[0m\n",
            "give me their names? \n",
            "SQLQuery:\u001b[32;1m\u001b[1;3m SELECT name FROM users LIMIT 5;\u001b[0m\n",
            "SQLResult: \u001b[33;1m\u001b[1;3m[('James',), ('Leila',), ('Brigitte',), ('Mike',), ('Elizabeth',)]\u001b[0m\n",
            "\u001b[1m> Finished chain.\u001b[0m\n"
          ]
        },
        {
          "output_type": "execute_result",
          "data": {
            "text/plain": [
              "\"[('James',), ('Leila',), ('Brigitte',), ('Mike',), ('Elizabeth',)]\""
            ],
            "application/vnd.google.colaboratory.intrinsic+json": {
              "type": "string"
            }
          },
          "metadata": {},
          "execution_count": 14
        }
      ]
    },
    {
      "cell_type": "markdown",
      "source": [
        "NB: by default, the SQL query generated from the llm query impose a limit to 5: `LIMIT 5`"
      ],
      "metadata": {
        "id": "xX_fX9sMvi3t"
      }
    },
    {
      "cell_type": "code",
      "source": [
        "# db_chain llm query requesting no limit for the retrieval of users\n",
        "db_chain.run(\"give me their names, no limit\")"
      ],
      "metadata": {
        "colab": {
          "base_uri": "https://localhost:8080/",
          "height": 157
        },
        "id": "x5odOG6Qj0Zm",
        "outputId": "281c7952-0833-4e07-ff59-038aa826da1b"
      },
      "execution_count": 15,
      "outputs": [
        {
          "output_type": "stream",
          "name": "stdout",
          "text": [
            "\n",
            "\n",
            "\u001b[1m> Entering new SQLDatabaseChain chain...\u001b[0m\n",
            "give me their names, no limit \n",
            "SQLQuery:\u001b[32;1m\u001b[1;3m SELECT name FROM users;\u001b[0m\n",
            "SQLResult: \u001b[33;1m\u001b[1;3m[('James',), ('Leila',), ('Brigitte',), ('Mike',), ('Elizabeth',)]\u001b[0m\n",
            "\u001b[1m> Finished chain.\u001b[0m\n"
          ]
        },
        {
          "output_type": "execute_result",
          "data": {
            "text/plain": [
              "\"[('James',), ('Leila',), ('Brigitte',), ('Mike',), ('Elizabeth',)]\""
            ],
            "application/vnd.google.colaboratory.intrinsic+json": {
              "type": "string"
            }
          },
          "metadata": {},
          "execution_count": 15
        }
      ]
    },
    {
      "cell_type": "code",
      "source": [
        "# db_chain llm query\n",
        "db_chain.run(\"give me users in France, no limit\")"
      ],
      "metadata": {
        "colab": {
          "base_uri": "https://localhost:8080/",
          "height": 157
        },
        "id": "MSmT8-C7kISc",
        "outputId": "60a6e603-a535-4676-9512-549e13e7f226"
      },
      "execution_count": 17,
      "outputs": [
        {
          "output_type": "stream",
          "name": "stdout",
          "text": [
            "\n",
            "\n",
            "\u001b[1m> Entering new SQLDatabaseChain chain...\u001b[0m\n",
            "give me users in France, no limit \n",
            "SQLQuery:\u001b[32;1m\u001b[1;3m SELECT name, age, gender FROM users WHERE nationality = 'France'\u001b[0m\n",
            "SQLResult: \u001b[33;1m\u001b[1;3m[('Leila', 32, 'female'), ('Leila', 32, 'female'), ('Leila', 32, 'female')]\u001b[0m\n",
            "\u001b[1m> Finished chain.\u001b[0m\n"
          ]
        },
        {
          "output_type": "execute_result",
          "data": {
            "text/plain": [
              "\"[('Leila', 32, 'female'), ('Leila', 32, 'female'), ('Leila', 32, 'female')]\""
            ],
            "application/vnd.google.colaboratory.intrinsic+json": {
              "type": "string"
            }
          },
          "metadata": {},
          "execution_count": 17
        }
      ]
    },
    {
      "cell_type": "code",
      "source": [
        "# checking for duplicate values in the users table\n",
        "cursor = db.cursor()\n",
        "cursor.execute(\"SELECT name FROM users GROUP BY name HAVING COUNT(*) > 1\")\n",
        "rows = cursor.fetchall(); rows"
      ],
      "metadata": {
        "colab": {
          "base_uri": "https://localhost:8080/"
        },
        "id": "m2j7GUNfZ1Y8",
        "outputId": "03c5eabd-41de-4e12-89bd-c050223ce8f9"
      },
      "execution_count": 16,
      "outputs": [
        {
          "output_type": "execute_result",
          "data": {
            "text/plain": [
              "[]"
            ]
          },
          "metadata": {},
          "execution_count": 16
        }
      ]
    },
    {
      "cell_type": "code",
      "source": [
        "# db_chain llm query\n",
        "db_chain.run(\"delete duplicate values from the users table\")"
      ],
      "metadata": {
        "colab": {
          "base_uri": "https://localhost:8080/",
          "height": 157
        },
        "id": "BSJU2lIrpva7",
        "outputId": "778df91b-96fa-40d2-93f6-1f38073850c2"
      },
      "execution_count": 19,
      "outputs": [
        {
          "output_type": "stream",
          "name": "stdout",
          "text": [
            "\n",
            "\n",
            "\u001b[1m> Entering new SQLDatabaseChain chain...\u001b[0m\n",
            "delete duplicate values from the users table \n",
            "SQLQuery:\u001b[32;1m\u001b[1;3m DELETE FROM users WHERE id NOT IN (SELECT MIN(id) FROM users GROUP BY name, age, gender, nationality);\u001b[0m\n",
            "SQLResult: \u001b[33;1m\u001b[1;3m\u001b[0m\n",
            "\u001b[1m> Finished chain.\u001b[0m\n"
          ]
        },
        {
          "output_type": "execute_result",
          "data": {
            "text/plain": [
              "''"
            ],
            "application/vnd.google.colaboratory.intrinsic+json": {
              "type": "string"
            }
          },
          "metadata": {},
          "execution_count": 19
        }
      ]
    },
    {
      "cell_type": "markdown",
      "source": [
        "NB: not bad! a simple llm query was able to produce the right sql!"
      ],
      "metadata": {
        "id": "3ScZUdfzBL2g"
      }
    },
    {
      "cell_type": "code",
      "source": [
        "# db_chain llm query\n",
        "db_chain.run(\"display the results\")"
      ],
      "metadata": {
        "colab": {
          "base_uri": "https://localhost:8080/",
          "height": 194
        },
        "id": "wJ-F6RcrsNHq",
        "outputId": "35ca7869-3baa-4b5d-89a5-0a90f6c2d7b1"
      },
      "execution_count": 20,
      "outputs": [
        {
          "output_type": "stream",
          "name": "stdout",
          "text": [
            "\n",
            "\n",
            "\u001b[1m> Entering new SQLDatabaseChain chain...\u001b[0m\n",
            "display the results \n",
            "SQLQuery:\u001b[32;1m\u001b[1;3m SELECT name, age, gender, nationality FROM users LIMIT 5\u001b[0m\n",
            "SQLResult: \u001b[33;1m\u001b[1;3m[('James', 25, 'male', 'USA'), ('Leila', 32, 'female', 'France'), ('Brigitte', 35, 'female', 'England'), ('Mike', 40, 'male', 'Denmark'), ('Elizabeth', 21, 'female', 'Canada')]\u001b[0m\n",
            "\u001b[1m> Finished chain.\u001b[0m\n"
          ]
        },
        {
          "output_type": "execute_result",
          "data": {
            "text/plain": [
              "\"[('James', 25, 'male', 'USA'), ('Leila', 32, 'female', 'France'), ('Brigitte', 35, 'female', 'England'), ('Mike', 40, 'male', 'Denmark'), ('Elizabeth', 21, 'female', 'Canada')]\""
            ],
            "application/vnd.google.colaboratory.intrinsic+json": {
              "type": "string"
            }
          },
          "metadata": {},
          "execution_count": 20
        }
      ]
    },
    {
      "cell_type": "code",
      "source": [
        "# db_chain query showing duplicates eliminated.\n",
        "db_chain.run(\"give me total count of users\")"
      ],
      "metadata": {
        "colab": {
          "base_uri": "https://localhost:8080/",
          "height": 157
        },
        "id": "xl0CqcTRsVuy",
        "outputId": "e3deb75b-ef1d-4825-d936-e8405d84ba80"
      },
      "execution_count": 17,
      "outputs": [
        {
          "output_type": "stream",
          "name": "stdout",
          "text": [
            "\n",
            "\n",
            "\u001b[1m> Entering new SQLDatabaseChain chain...\u001b[0m\n",
            "give me total count of users \n",
            "SQLQuery:\u001b[32;1m\u001b[1;3m SELECT COUNT(*) FROM users;\u001b[0m\n",
            "SQLResult: \u001b[33;1m\u001b[1;3m[(5,)]\u001b[0m\n",
            "\u001b[1m> Finished chain.\u001b[0m\n"
          ]
        },
        {
          "output_type": "execute_result",
          "data": {
            "text/plain": [
              "'[(5,)]'"
            ],
            "application/vnd.google.colaboratory.intrinsic+json": {
              "type": "string"
            }
          },
          "metadata": {},
          "execution_count": 17
        }
      ]
    },
    {
      "cell_type": "code",
      "source": [
        "db_chain(\"What is the average age for each party?\")\n"
      ],
      "metadata": {
        "colab": {
          "base_uri": "https://localhost:8080/"
        },
        "id": "tsUoD1ZycIhH",
        "outputId": "5c7722ba-d49d-423f-99ee-419418d76775"
      },
      "execution_count": 18,
      "outputs": [
        {
          "output_type": "stream",
          "name": "stdout",
          "text": [
            "\n",
            "\n",
            "\u001b[1m> Entering new SQLDatabaseChain chain...\u001b[0m\n",
            "What is the average age for each party? \n",
            "SQLQuery:\u001b[32;1m\u001b[1;3m SELECT gender, AVG(age) FROM users GROUP BY gender;\u001b[0m\n",
            "SQLResult: \u001b[33;1m\u001b[1;3m[('female', 29.333333333333332), ('male', 32.5)]\u001b[0m\n",
            "\u001b[1m> Finished chain.\u001b[0m\n"
          ]
        },
        {
          "output_type": "execute_result",
          "data": {
            "text/plain": [
              "{'query': 'What is the average age for each party?',\n",
              " 'result': \"[('female', 29.333333333333332), ('male', 32.5)]\"}"
            ]
          },
          "metadata": {},
          "execution_count": 18
        }
      ]
    },
    {
      "cell_type": "markdown",
      "source": [
        "# Using the LLM to Visualize the Data"
      ],
      "metadata": {
        "id": "p47PKHaicx1Z"
      }
    },
    {
      "cell_type": "code",
      "source": [
        "from langchain import LLMChain"
      ],
      "metadata": {
        "id": "qWchOh1SeGqM"
      },
      "execution_count": 19,
      "outputs": []
    },
    {
      "cell_type": "code",
      "source": [
        "from langchain.agents import (AgentExecutor, Tool, ZeroShotAgent,\n",
        "                              initialize_agent, load_tools)\n"
      ],
      "metadata": {
        "id": "z7r6u7K8dNeb"
      },
      "execution_count": 20,
      "outputs": []
    },
    {
      "cell_type": "code",
      "source": [
        "# Add python_repl to our list of tools\n",
        "tools = load_tools([\"python_repl\"])\n",
        "\n",
        "# Define our voter_data tool\n",
        "\n",
        "# Set a description to help the LLM know when and how to use it.\n",
        "description = (\n",
        "    \"Useful for when you need to answer questions about voters. \"\n",
        "    \"You must not input SQL. Use this more than the Python tool if the question \"\n",
        "    \"is about voter data, like 'how many DEM voters are there?' or 'count the number of precincts'\"\n",
        ")\n",
        "\n",
        "voter_data = Tool(\n",
        "    name=\"Data\",  # We'll just call it 'Data'\n",
        "    func=db_chain.run,\n",
        "    description=description,\n",
        ")\n",
        "\n",
        "tools.append(voter_data)"
      ],
      "metadata": {
        "id": "Ku68LDb1d1XJ"
      },
      "execution_count": 30,
      "outputs": []
    },
    {
      "cell_type": "markdown",
      "source": [
        "NB: `python_repl`  (Read-Eval-Print Loop), allows you to run Python code interactively while working on a project or learning the language. This tool is available in every Python installation, so you can use it at any moment"
      ],
      "metadata": {
        "id": "edRFjlu1eewh"
      }
    },
    {
      "cell_type": "code",
      "source": [
        "# Standard prefix\n",
        "prefix = \"Fulfill the following request as best you can. You have access to the following tools:\"\n",
        "\n",
        "# Remind the agent of the Data tool, and what types of input it expects\n",
        "suffix = (\n",
        "    \"Begin! When looking for data, do not write a SQL query. \"\n",
        "    \"Pass the relevant portion of the request directly to the Data tool in its entirety.\"\n",
        "    \"\\n\\n\"\n",
        "    \"Request: {input}\\n\"\n",
        "    \"{agent_scratchpad}\"\n",
        ")\n",
        "\n",
        "# The agent's prompt is built with the list of tools, prefix, suffix, and input variables\n",
        "prompt = ZeroShotAgent.create_prompt(\n",
        "    tools, prefix=prefix, suffix=suffix, input_variables=[\"input\", \"agent_scratchpad\"]\n",
        ")\n",
        "\n",
        "# Set up the llm_chain\n",
        "llm_chain = LLMChain(llm=llm, prompt=prompt)\n",
        "\n",
        "# Specify the tools the agent may use\n",
        "tool_names = [tool.name for tool in tools]\n",
        "agent = ZeroShotAgent(llm_chain=llm_chain, allowed_tools=tool_names)\n",
        "\n",
        "# Create the AgentExecutor\n",
        "agent_executor = AgentExecutor.from_agent_and_tools(\n",
        "    agent=agent, tools=tools, verbose=True\n",
        ")"
      ],
      "metadata": {
        "id": "F_h0A89ddtJK"
      },
      "execution_count": 31,
      "outputs": []
    },
    {
      "cell_type": "code",
      "source": [
        "request = \"Plot a pie representing the age repartition among users\"\n",
        "\n",
        "agent_executor.run(request)"
      ],
      "metadata": {
        "colab": {
          "base_uri": "https://localhost:8080/",
          "height": 824
        },
        "id": "ViTlNLLldcY5",
        "outputId": "fa02b940-5fd7-4366-cb3e-b8398378a796"
      },
      "execution_count": 38,
      "outputs": [
        {
          "output_type": "stream",
          "name": "stdout",
          "text": [
            "\n",
            "\n",
            "\u001b[1m> Entering new AgentExecutor chain...\u001b[0m\n",
            "\u001b[32;1m\u001b[1;3m\n",
            "Thought: I need to get the age repartition of users\n",
            "Action: Data\n",
            "Action Input: Get the age repartition of users\u001b[0m\n",
            "\n",
            "\u001b[1m> Entering new SQLDatabaseChain chain...\u001b[0m\n",
            "Get the age repartition of users \n",
            "SQLQuery:\u001b[32;1m\u001b[1;3m SELECT age, COUNT(*) FROM users GROUP BY age LIMIT 5\u001b[0m\n",
            "SQLResult: \u001b[33;1m\u001b[1;3m[(21, 1), (25, 1), (32, 1), (35, 1), (40, 1)]\u001b[0m\n",
            "\u001b[1m> Finished chain.\u001b[0m\n",
            "\n",
            "Observation: \u001b[33;1m\u001b[1;3m[(21, 1), (25, 1), (32, 1), (35, 1), (40, 1)]\u001b[0m\n",
            "Thought:\u001b[32;1m\u001b[1;3m I need to plot this data\n",
            "Action: Python REPL\n",
            "Action Input: import matplotlib.pyplot as plt; plt.pie([21, 25, 32, 35, 40], labels=['21', '25', '32', '35', '40'])\u001b[0m\n",
            "Observation: \u001b[36;1m\u001b[1;3m\u001b[0m\n",
            "Thought:\u001b[32;1m\u001b[1;3m I now know the final answer\n",
            "Final Answer: A pie chart representing the age repartition among users.\u001b[0m\n",
            "\n",
            "\u001b[1m> Finished chain.\u001b[0m\n"
          ]
        },
        {
          "output_type": "execute_result",
          "data": {
            "text/plain": [
              "'A pie chart representing the age repartition among users.'"
            ],
            "application/vnd.google.colaboratory.intrinsic+json": {
              "type": "string"
            }
          },
          "metadata": {},
          "execution_count": 38
        },
        {
          "output_type": "display_data",
          "data": {
            "text/plain": [
              "<Figure size 640x480 with 1 Axes>"
            ],
            "image/png": "[encoded data removed]"
          },
          "metadata": {}
        }
      ]
    },
    {
      "cell_type": "markdown",
      "source": [
        "# Resources\n",
        "- [langchain with sqllite](https://python.langchain.com/en/latest/modules/chains/examples/sqlite.html)"
      ],
      "metadata": {
        "id": "wjrrW1Gxtqkp"
      }
    },
    {
      "cell_type": "code",
      "source": [],
      "metadata": {
        "id": "Gn-56u6TseCk"
      },
      "execution_count": 79,
      "outputs": []
    }
  ]
}